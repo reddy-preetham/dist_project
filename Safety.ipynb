{
 "cells": [
  {
   "cell_type": "code",
   "execution_count": null,
   "metadata": {},
   "outputs": [],
   "source": [
    "class Safety:\n",
    "\n",
    "    def __init__(self) -> None:\n",
    "        self.__private_key\n",
    "        self.__public_key\n",
    "        self.__highest_vote_round=0\n",
    "        self.__highest_qc_round\n",
    "\n",
    "    def set_keys(private_key,public_key):\n",
    "        __private_key=private_key\n",
    "        __public_key=public_key\n",
    "\n",
    "    def increase_highest_vote_round(round):\n",
    "        \n",
    "\n"
   ]
  }
 ],
 "metadata": {
  "language_info": {
   "name": "python"
  },
  "orig_nbformat": 4
 },
 "nbformat": 4,
 "nbformat_minor": 2
}
